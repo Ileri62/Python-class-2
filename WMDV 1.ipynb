{
 "cells": [
  {
   "cell_type": "code",
   "execution_count": 3,
   "id": "c6f2943d",
   "metadata": {},
   "outputs": [
    {
     "name": "stdout",
     "output_type": "stream",
     "text": [
      "analytics\n"
     ]
    }
   ],
   "source": [
    "print('analytics')"
   ]
  },
  {
   "cell_type": "markdown",
   "id": "04f2bdc0",
   "metadata": {},
   "source": [
    "# Data Types\n",
    "- Numbers (Integers or Float)\n",
    "- Text (Strings)\n",
    "- Booleans (True or False)\n",
    "- List\n",
    "- Tuples\n",
    "- Dictionaries\n",
    "- Sets\n",
    "\n"
   ]
  },
  {
   "cell_type": "code",
   "execution_count": 4,
   "id": "c46d9e7e",
   "metadata": {},
   "outputs": [
    {
     "data": {
      "text/plain": [
       "5000"
      ]
     },
     "execution_count": 4,
     "metadata": {},
     "output_type": "execute_result"
    }
   ],
   "source": [
    "# Integer- Int, or integer, is a whole number, positive or negative, without decimal example \n",
    "5000"
   ]
  },
  {
   "cell_type": "code",
   "execution_count": 5,
   "id": "33a38377",
   "metadata": {},
   "outputs": [
    {
     "data": {
      "text/plain": [
       "int"
      ]
     },
     "execution_count": 5,
     "metadata": {},
     "output_type": "execute_result"
    }
   ],
   "source": [
    "type(5000)"
   ]
  },
  {
   "cell_type": "code",
   "execution_count": 6,
   "id": "a7f3ba3d",
   "metadata": {},
   "outputs": [
    {
     "data": {
      "text/plain": [
       "20000"
      ]
     },
     "execution_count": 6,
     "metadata": {},
     "output_type": "execute_result"
    }
   ],
   "source": [
    "5000*4"
   ]
  },
  {
   "cell_type": "code",
   "execution_count": 7,
   "id": "5a4eeb16",
   "metadata": {},
   "outputs": [
    {
     "data": {
      "text/plain": [
       "500"
      ]
     },
     "execution_count": 7,
     "metadata": {},
     "output_type": "execute_result"
    }
   ],
   "source": [
    "250+250"
   ]
  },
  {
   "cell_type": "code",
   "execution_count": null,
   "id": "a673515a",
   "metadata": {},
   "outputs": [],
   "source": [
    "# Float: The difference between float and integer is the decimal points, Float : \"1.0\", Integer: \"1\"\n",
    "# It is accurate upto 15 decimal points"
   ]
  },
  {
   "cell_type": "code",
   "execution_count": 1,
   "id": "b77c27f3",
   "metadata": {},
   "outputs": [
    {
     "data": {
      "text/plain": [
       "10.5"
      ]
     },
     "execution_count": 1,
     "metadata": {},
     "output_type": "execute_result"
    }
   ],
   "source": [
    "10.5"
   ]
  },
  {
   "cell_type": "code",
   "execution_count": 2,
   "id": "884c8bd3",
   "metadata": {},
   "outputs": [
    {
     "data": {
      "text/plain": [
       "4"
      ]
     },
     "execution_count": 2,
     "metadata": {},
     "output_type": "execute_result"
    }
   ],
   "source": [
    "#Basic Arithmetic\n",
    "2+2"
   ]
  },
  {
   "cell_type": "code",
   "execution_count": 3,
   "id": "af9dd5b4",
   "metadata": {},
   "outputs": [
    {
     "data": {
      "text/plain": [
       "3.3333333333333335"
      ]
     },
     "execution_count": 3,
     "metadata": {},
     "output_type": "execute_result"
    }
   ],
   "source": [
    "10/3"
   ]
  },
  {
   "cell_type": "code",
   "execution_count": null,
   "id": "3802e6e0",
   "metadata": {},
   "outputs": [],
   "source": []
  },
  {
   "cell_type": "code",
   "execution_count": null,
   "id": "9e5a4220",
   "metadata": {},
   "outputs": [],
   "source": [
    "#Basic Arithmetic\n",
    "2 + 2"
   ]
  },
  {
   "cell_type": "code",
   "execution_count": 4,
   "id": "ca470004",
   "metadata": {},
   "outputs": [
    {
     "data": {
      "text/plain": [
       "60.0"
      ]
     },
     "execution_count": 4,
     "metadata": {},
     "output_type": "execute_result"
    }
   ],
   "source": [
    "150*0.4"
   ]
  },
  {
   "cell_type": "code",
   "execution_count": null,
   "id": "70df6b21",
   "metadata": {},
   "outputs": [],
   "source": []
  },
  {
   "cell_type": "code",
   "execution_count": 5,
   "id": "b806475a",
   "metadata": {},
   "outputs": [
    {
     "data": {
      "text/plain": [
       "33"
      ]
     },
     "execution_count": 5,
     "metadata": {},
     "output_type": "execute_result"
    }
   ],
   "source": [
    "#Floor division: shows number of times you can get the lower figure from the large figure, removing the remainder (//) eg\n",
    "100//3"
   ]
  },
  {
   "cell_type": "code",
   "execution_count": 6,
   "id": "d07e7e29",
   "metadata": {},
   "outputs": [
    {
     "data": {
      "text/plain": [
       "1"
      ]
     },
     "execution_count": 6,
     "metadata": {},
     "output_type": "execute_result"
    }
   ],
   "source": [
    "#Modulo ; shows the remainder after the number of times the lower figure can divide the large figure(%)\n",
    "100%3"
   ]
  },
  {
   "cell_type": "code",
   "execution_count": 8,
   "id": "3c97b6c9",
   "metadata": {},
   "outputs": [
    {
     "data": {
      "text/plain": [
       "62"
      ]
     },
     "execution_count": 8,
     "metadata": {},
     "output_type": "execute_result"
    }
   ],
   "source": [
    "2500//40"
   ]
  },
  {
   "cell_type": "code",
   "execution_count": 9,
   "id": "611aabd9",
   "metadata": {},
   "outputs": [
    {
     "data": {
      "text/plain": [
       "20"
      ]
     },
     "execution_count": 9,
     "metadata": {},
     "output_type": "execute_result"
    }
   ],
   "source": [
    "2500%40"
   ]
  },
  {
   "cell_type": "code",
   "execution_count": 10,
   "id": "29d55d4c",
   "metadata": {},
   "outputs": [
    {
     "data": {
      "text/plain": [
       "16"
      ]
     },
     "execution_count": 10,
     "metadata": {},
     "output_type": "execute_result"
    }
   ],
   "source": [
    "#Raised to power (**)\n",
    "2**4"
   ]
  },
  {
   "cell_type": "code",
   "execution_count": 11,
   "id": "eb1a2a84",
   "metadata": {},
   "outputs": [
    {
     "data": {
      "text/plain": [
       "2.8"
      ]
     },
     "execution_count": 11,
     "metadata": {},
     "output_type": "execute_result"
    }
   ],
   "source": [
    "#BODMAS: Phython recognises and works with BODMAS Rule in Arithemetic\n",
    "1+3/10*6"
   ]
  },
  {
   "cell_type": "code",
   "execution_count": 12,
   "id": "1683c57f",
   "metadata": {},
   "outputs": [
    {
     "data": {
      "text/plain": [
       "2.4000000000000004"
      ]
     },
     "execution_count": 12,
     "metadata": {},
     "output_type": "execute_result"
    }
   ],
   "source": [
    "(1+3)/10*6"
   ]
  },
  {
   "cell_type": "code",
   "execution_count": 13,
   "id": "bdbdfbba",
   "metadata": {},
   "outputs": [
    {
     "data": {
      "text/plain": [
       "0.06666666666666667"
      ]
     },
     "execution_count": 13,
     "metadata": {},
     "output_type": "execute_result"
    }
   ],
   "source": [
    "(1+3)/(10*6)"
   ]
  },
  {
   "cell_type": "code",
   "execution_count": null,
   "id": "a9b1e527",
   "metadata": {},
   "outputs": [],
   "source": [
    "#Variable Assesment"
   ]
  },
  {
   "cell_type": "code",
   "execution_count": 16,
   "id": "52615067",
   "metadata": {},
   "outputs": [],
   "source": [
    "income=2000 #Note income is the variale, 2000 is the value, = is the assignment key"
   ]
  },
  {
   "cell_type": "code",
   "execution_count": 17,
   "id": "72644e7f",
   "metadata": {},
   "outputs": [
    {
     "data": {
      "text/plain": [
       "2000"
      ]
     },
     "execution_count": 17,
     "metadata": {},
     "output_type": "execute_result"
    }
   ],
   "source": [
    "income"
   ]
  },
  {
   "cell_type": "code",
   "execution_count": 18,
   "id": "5bd4e88e",
   "metadata": {},
   "outputs": [
    {
     "data": {
      "text/plain": [
       "4000"
      ]
     },
     "execution_count": 18,
     "metadata": {},
     "output_type": "execute_result"
    }
   ],
   "source": [
    "income*2"
   ]
  },
  {
   "cell_type": "code",
   "execution_count": 19,
   "id": "c4bff5c0",
   "metadata": {},
   "outputs": [
    {
     "data": {
      "text/plain": [
       "20.0"
      ]
     },
     "execution_count": 19,
     "metadata": {},
     "output_type": "execute_result"
    }
   ],
   "source": [
    "income/100"
   ]
  },
  {
   "cell_type": "code",
   "execution_count": 20,
   "id": "f7a5ad78",
   "metadata": {},
   "outputs": [
    {
     "data": {
      "text/plain": [
       "4000000"
      ]
     },
     "execution_count": 20,
     "metadata": {},
     "output_type": "execute_result"
    }
   ],
   "source": [
    "income**2"
   ]
  },
  {
   "cell_type": "code",
   "execution_count": 21,
   "id": "a3224b36",
   "metadata": {},
   "outputs": [],
   "source": [
    "efe=income/100"
   ]
  },
  {
   "cell_type": "code",
   "execution_count": 22,
   "id": "62df6894",
   "metadata": {},
   "outputs": [
    {
     "data": {
      "text/plain": [
       "20.0"
      ]
     },
     "execution_count": 22,
     "metadata": {},
     "output_type": "execute_result"
    }
   ],
   "source": [
    "efe"
   ]
  },
  {
   "cell_type": "code",
   "execution_count": 24,
   "id": "bf2ad2a7",
   "metadata": {},
   "outputs": [],
   "source": [
    "#Test Calculator\n",
    "f_test= 10\n",
    "s_test= 20\n",
    "attendance= 5\n",
    "exam=30\n",
    "total_score= f_test+s_test+attendance+exam"
   ]
  },
  {
   "cell_type": "code",
   "execution_count": 25,
   "id": "85a20386",
   "metadata": {},
   "outputs": [
    {
     "data": {
      "text/plain": [
       "65"
      ]
     },
     "execution_count": 25,
     "metadata": {},
     "output_type": "execute_result"
    }
   ],
   "source": [
    "total_score"
   ]
  },
  {
   "cell_type": "code",
   "execution_count": 27,
   "id": "59a9e91d",
   "metadata": {},
   "outputs": [
    {
     "name": "stdout",
     "output_type": "stream",
     "text": [
      "what is your first test score?15.5\n",
      "what is your second test score?9\n",
      "what is your attendance score?4\n",
      "what is your exam score?45\n"
     ]
    },
    {
     "data": {
      "text/plain": [
       "73.5"
      ]
     },
     "execution_count": 27,
     "metadata": {},
     "output_type": "execute_result"
    }
   ],
   "source": [
    "#Test Calculator\n",
    "f_test= float(input('what is your first test score?'))\n",
    "s_test= float(input('what is your second test score?'))\n",
    "attendance= float(input('what is your attendance score?'))\n",
    "exam=float(input('what is your exam score?'))\n",
    "total_score= f_test+s_test+attendance+exam\n",
    "total_score"
   ]
  },
  {
   "cell_type": "code",
   "execution_count": 28,
   "id": "b02c31dc",
   "metadata": {},
   "outputs": [
    {
     "data": {
      "text/plain": [
       "'hello world'"
      ]
     },
     "execution_count": 28,
     "metadata": {},
     "output_type": "execute_result"
    }
   ],
   "source": [
    "#String (text)\n",
    "\"hello world\""
   ]
  },
  {
   "cell_type": "code",
   "execution_count": 30,
   "id": "6c140362",
   "metadata": {},
   "outputs": [],
   "source": [
    "f_name=\"eke\""
   ]
  },
  {
   "cell_type": "code",
   "execution_count": 31,
   "id": "cabfacc5",
   "metadata": {},
   "outputs": [
    {
     "data": {
      "text/plain": [
       "'eke'"
      ]
     },
     "execution_count": 31,
     "metadata": {},
     "output_type": "execute_result"
    }
   ],
   "source": [
    "f_name"
   ]
  },
  {
   "cell_type": "code",
   "execution_count": 33,
   "id": "09fc1d89",
   "metadata": {},
   "outputs": [],
   "source": [
    "#Full name generation\n",
    "first_name=\"funmilayo\"\n",
    "last_name=\"festus\"\n",
    "full_name= first_name+ \" \"+last_name"
   ]
  },
  {
   "cell_type": "code",
   "execution_count": 34,
   "id": "66a8fbc0",
   "metadata": {},
   "outputs": [
    {
     "data": {
      "text/plain": [
       "'funmilayo festus'"
      ]
     },
     "execution_count": 34,
     "metadata": {},
     "output_type": "execute_result"
    }
   ],
   "source": [
    "full_name"
   ]
  },
  {
   "cell_type": "code",
   "execution_count": 35,
   "id": "f4c1862d",
   "metadata": {},
   "outputs": [
    {
     "name": "stdout",
     "output_type": "stream",
     "text": [
      "what is your first name?thomas\n",
      "what is your last name?craig\n"
     ]
    },
    {
     "data": {
      "text/plain": [
       "'thomas craig'"
      ]
     },
     "execution_count": 35,
     "metadata": {},
     "output_type": "execute_result"
    }
   ],
   "source": [
    "first_name=str(input(\"what is your first name?\"))\n",
    "last_name=str(input(\"what is your last name?\"))\n",
    "full_name= first_name+ \" \"+last_name\n",
    "full_name"
   ]
  },
  {
   "cell_type": "code",
   "execution_count": 36,
   "id": "f112162c",
   "metadata": {},
   "outputs": [
    {
     "data": {
      "text/plain": [
       "'thomas craig'"
      ]
     },
     "execution_count": 36,
     "metadata": {},
     "output_type": "execute_result"
    }
   ],
   "source": [
    "#Indexing and the slicing(in indexing phthon counts from 0)\n",
    "full_name"
   ]
  },
  {
   "cell_type": "code",
   "execution_count": 37,
   "id": "145eb96d",
   "metadata": {},
   "outputs": [
    {
     "data": {
      "text/plain": [
       "'s'"
      ]
     },
     "execution_count": 37,
     "metadata": {},
     "output_type": "execute_result"
    }
   ],
   "source": [
    "#indexing\n",
    "full_name[5]"
   ]
  },
  {
   "cell_type": "code",
   "execution_count": 38,
   "id": "606d3d8e",
   "metadata": {},
   "outputs": [
    {
     "data": {
      "text/plain": [
       "' '"
      ]
     },
     "execution_count": 38,
     "metadata": {},
     "output_type": "execute_result"
    }
   ],
   "source": [
    "full_name[6]"
   ]
  },
  {
   "cell_type": "code",
   "execution_count": 40,
   "id": "0110d154",
   "metadata": {},
   "outputs": [
    {
     "data": {
      "text/plain": [
       "'thomas'"
      ]
     },
     "execution_count": 40,
     "metadata": {},
     "output_type": "execute_result"
    }
   ],
   "source": [
    "#slicing (in slicing add a to the number of the poin you want slice, so it doesn't cutt off the last alphabet)e.g\n",
    "#slicing :[start:stop:step]\n",
    "full_name[0:6]"
   ]
  },
  {
   "cell_type": "code",
   "execution_count": 41,
   "id": "a3574d0d",
   "metadata": {},
   "outputs": [
    {
     "data": {
      "text/plain": [
       "'craig'"
      ]
     },
     "execution_count": 41,
     "metadata": {},
     "output_type": "execute_result"
    }
   ],
   "source": [
    "full_name[7:12]"
   ]
  },
  {
   "cell_type": "code",
   "execution_count": 42,
   "id": "8648205a",
   "metadata": {},
   "outputs": [],
   "source": [
    "num=\"123456789\""
   ]
  },
  {
   "cell_type": "code",
   "execution_count": 43,
   "id": "2fa06bd6",
   "metadata": {},
   "outputs": [
    {
     "data": {
      "text/plain": [
       "'123456789'"
      ]
     },
     "execution_count": 43,
     "metadata": {},
     "output_type": "execute_result"
    }
   ],
   "source": [
    "num"
   ]
  },
  {
   "cell_type": "code",
   "execution_count": 44,
   "id": "499b3562",
   "metadata": {},
   "outputs": [
    {
     "data": {
      "text/plain": [
       "'5'"
      ]
     },
     "execution_count": 44,
     "metadata": {},
     "output_type": "execute_result"
    }
   ],
   "source": [
    "num[4]"
   ]
  },
  {
   "cell_type": "code",
   "execution_count": 46,
   "id": "2dfd67f1",
   "metadata": {},
   "outputs": [
    {
     "data": {
      "text/plain": [
       "'12345'"
      ]
     },
     "execution_count": 46,
     "metadata": {},
     "output_type": "execute_result"
    }
   ],
   "source": [
    "num[0:5]"
   ]
  },
  {
   "cell_type": "code",
   "execution_count": 47,
   "id": "e85e2e6d",
   "metadata": {},
   "outputs": [
    {
     "data": {
      "text/plain": [
       "'9'"
      ]
     },
     "execution_count": 47,
     "metadata": {},
     "output_type": "execute_result"
    }
   ],
   "source": [
    "#Negative Indexing(this is negative count from the rear)\n",
    "num[-1]"
   ]
  },
  {
   "cell_type": "code",
   "execution_count": 48,
   "id": "d795e103",
   "metadata": {},
   "outputs": [
    {
     "data": {
      "text/plain": [
       "'2468'"
      ]
     },
     "execution_count": 48,
     "metadata": {},
     "output_type": "execute_result"
    }
   ],
   "source": [
    "#Using steps in the slicing(::)\n",
    "num[1::2]"
   ]
  },
  {
   "cell_type": "code",
   "execution_count": 49,
   "id": "d07e31f4",
   "metadata": {},
   "outputs": [
    {
     "data": {
      "text/plain": [
       "'26'"
      ]
     },
     "execution_count": 49,
     "metadata": {},
     "output_type": "execute_result"
    }
   ],
   "source": [
    "num[1::4]"
   ]
  },
  {
   "cell_type": "code",
   "execution_count": null,
   "id": "52fb64e3",
   "metadata": {},
   "outputs": [],
   "source": [
    "#Print formatting\n",
    "\n",
    "#.format method\n",
    "# Placeholder\n",
    "#f-strings"
   ]
  },
  {
   "cell_type": "code",
   "execution_count": 50,
   "id": "83913b80",
   "metadata": {},
   "outputs": [
    {
     "name": "stdout",
     "output_type": "stream",
     "text": [
      "my name is funmilayo and i am 15 years old\n"
     ]
    }
   ],
   "source": [
    "# .format method\n",
    "name=\"funmilayo\"\n",
    "age= 15\n",
    "print(\"my name is {} and i am {} years old\".format(name,age))"
   ]
  },
  {
   "cell_type": "code",
   "execution_count": 51,
   "id": "170c6e83",
   "metadata": {},
   "outputs": [
    {
     "name": "stdout",
     "output_type": "stream",
     "text": [
      "what is your name?Tunde\n",
      "How old are you?25\n",
      "my name is Tunde and i am 25 years old\n"
     ]
    }
   ],
   "source": [
    "# .format method\n",
    "name=input(\"what is your name?\")\n",
    "age= int(input(\"How old are you?\"))\n",
    "print(\"my name is {} and i am {} years old\".format(name,age))"
   ]
  },
  {
   "cell_type": "code",
   "execution_count": 53,
   "id": "399588a8",
   "metadata": {},
   "outputs": [
    {
     "name": "stdout",
     "output_type": "stream",
     "text": [
      "what is your name?Tunde\n",
      "How old are you?35\n",
      "My name is Tunde and I am 35 years old\n"
     ]
    }
   ],
   "source": [
    "#Placeholder; uses %s in between statements, while % instead of .format\n",
    "name=input(\"what is your name?\")\n",
    "age= int(input(\"How old are you?\"))\n",
    "print(\"My name is %s and I am %s years old\"%(name,age))"
   ]
  },
  {
   "cell_type": "code",
   "execution_count": 55,
   "id": "0e917bdb",
   "metadata": {},
   "outputs": [
    {
     "name": "stdout",
     "output_type": "stream",
     "text": [
      "what is your name?Taye\n",
      "How old are you?40\n",
      "My name is Taye and I am 40 years old\n"
     ]
    }
   ],
   "source": [
    "#f-strings; uses {variable} in between statements, in the print option , type f before the strings\n",
    "name=input(\"what is your name?\")\n",
    "age= int(input(\"How old are you?\"))\n",
    "print(f\"My name is {name} and I am {age} years old\")"
   ]
  },
  {
   "cell_type": "code",
   "execution_count": 1,
   "id": "bb58ee33",
   "metadata": {},
   "outputs": [],
   "source": [
    "#List\n",
    "#An Ordered sequence of items is a List\n",
    "#The list is the highly used data type in Python\n",
    "#Contains Versatile data\n",
    "names=[\"emeka\",\"toye\",\"Kemi\",\"Tabitha\"]"
   ]
  },
  {
   "cell_type": "code",
   "execution_count": 2,
   "id": "233b27f0",
   "metadata": {},
   "outputs": [
    {
     "data": {
      "text/plain": [
       "['emeka', 'toye', 'Kemi', 'Tabitha']"
      ]
     },
     "execution_count": 2,
     "metadata": {},
     "output_type": "execute_result"
    }
   ],
   "source": [
    "names"
   ]
  },
  {
   "cell_type": "code",
   "execution_count": 3,
   "id": "5b2f0b5f",
   "metadata": {},
   "outputs": [],
   "source": [
    "my_list=[\"Seye\",\"Jide\",1,2,3,0.5,False]"
   ]
  },
  {
   "cell_type": "code",
   "execution_count": 4,
   "id": "72d3b11e",
   "metadata": {},
   "outputs": [
    {
     "data": {
      "text/plain": [
       "['Seye', 'Jide', 1, 2, 3, 0.5, False]"
      ]
     },
     "execution_count": 4,
     "metadata": {},
     "output_type": "execute_result"
    }
   ],
   "source": [
    "my_list"
   ]
  },
  {
   "cell_type": "code",
   "execution_count": 5,
   "id": "b08286b0",
   "metadata": {},
   "outputs": [
    {
     "data": {
      "text/plain": [
       "'emeka'"
      ]
     },
     "execution_count": 5,
     "metadata": {},
     "output_type": "execute_result"
    }
   ],
   "source": [
    "#Indexing and slicing\n",
    "names[0]"
   ]
  },
  {
   "cell_type": "code",
   "execution_count": 6,
   "id": "3ea9ff58",
   "metadata": {},
   "outputs": [
    {
     "data": {
      "text/plain": [
       "['emeka', 'toye']"
      ]
     },
     "execution_count": 6,
     "metadata": {},
     "output_type": "execute_result"
    }
   ],
   "source": [
    "names[0:2]"
   ]
  },
  {
   "cell_type": "code",
   "execution_count": 7,
   "id": "0b3d2ff5",
   "metadata": {},
   "outputs": [
    {
     "data": {
      "text/plain": [
       "['toye']"
      ]
     },
     "execution_count": 7,
     "metadata": {},
     "output_type": "execute_result"
    }
   ],
   "source": [
    "names[1::3]"
   ]
  },
  {
   "cell_type": "code",
   "execution_count": 8,
   "id": "dfd50b10",
   "metadata": {},
   "outputs": [
    {
     "data": {
      "text/plain": [
       "['emeka', 'Kemi']"
      ]
     },
     "execution_count": 8,
     "metadata": {},
     "output_type": "execute_result"
    }
   ],
   "source": [
    "names[0::2]"
   ]
  },
  {
   "cell_type": "code",
   "execution_count": 10,
   "id": "8d24f031",
   "metadata": {},
   "outputs": [],
   "source": [
    "names.append(\"Titilope\")"
   ]
  },
  {
   "cell_type": "code",
   "execution_count": 11,
   "id": "f1519a1b",
   "metadata": {},
   "outputs": [
    {
     "data": {
      "text/plain": [
       "['emeka', 'toye', 'Kemi', 'Tabitha', 'Titilope']"
      ]
     },
     "execution_count": 11,
     "metadata": {},
     "output_type": "execute_result"
    }
   ],
   "source": [
    "names"
   ]
  },
  {
   "cell_type": "code",
   "execution_count": 17,
   "id": "173c3af4",
   "metadata": {},
   "outputs": [],
   "source": [
    "names.append(\"Grace\")"
   ]
  },
  {
   "cell_type": "code",
   "execution_count": 18,
   "id": "5b56df68",
   "metadata": {},
   "outputs": [
    {
     "data": {
      "text/plain": [
       "['emeka', 'toye', 'Kemi', 'Tabitha', 'Titilope', 'Grace']"
      ]
     },
     "execution_count": 18,
     "metadata": {},
     "output_type": "execute_result"
    }
   ],
   "source": [
    "names"
   ]
  },
  {
   "cell_type": "code",
   "execution_count": 19,
   "id": "4383a2f9",
   "metadata": {},
   "outputs": [
    {
     "data": {
      "text/plain": [
       "'Grace'"
      ]
     },
     "execution_count": 19,
     "metadata": {},
     "output_type": "execute_result"
    }
   ],
   "source": [
    "names.pop() #to remove the last name"
   ]
  },
  {
   "cell_type": "code",
   "execution_count": 20,
   "id": "1b9f4a5a",
   "metadata": {},
   "outputs": [
    {
     "data": {
      "text/plain": [
       "['emeka', 'toye', 'Kemi', 'Tabitha', 'Titilope']"
      ]
     },
     "execution_count": 20,
     "metadata": {},
     "output_type": "execute_result"
    }
   ],
   "source": [
    "names"
   ]
  },
  {
   "cell_type": "code",
   "execution_count": 21,
   "id": "ffd1d244",
   "metadata": {},
   "outputs": [],
   "source": [
    "names.reverse()"
   ]
  },
  {
   "cell_type": "code",
   "execution_count": 22,
   "id": "82d81995",
   "metadata": {},
   "outputs": [
    {
     "data": {
      "text/plain": [
       "['Titilope', 'Tabitha', 'Kemi', 'toye', 'emeka']"
      ]
     },
     "execution_count": 22,
     "metadata": {},
     "output_type": "execute_result"
    }
   ],
   "source": [
    "names"
   ]
  },
  {
   "cell_type": "code",
   "execution_count": null,
   "id": "cfbcc87d",
   "metadata": {},
   "outputs": [],
   "source": [
    "#Dictionaries\n",
    "# Dictionary is a type of Python data type in which collections are Unordered, and Value are in pairs  called key-Value pairs\n"
   ]
  },
  {
   "cell_type": "code",
   "execution_count": 26,
   "id": "caf235a6",
   "metadata": {},
   "outputs": [],
   "source": [
    "my_dict = {\"key1\": \"value1\", \"key2\":\"value2\"}"
   ]
  },
  {
   "cell_type": "code",
   "execution_count": 27,
   "id": "1c7ea893",
   "metadata": {},
   "outputs": [
    {
     "data": {
      "text/plain": [
       "dict_keys(['key1', 'key2'])"
      ]
     },
     "execution_count": 27,
     "metadata": {},
     "output_type": "execute_result"
    }
   ],
   "source": [
    "my_dict.keys()"
   ]
  },
  {
   "cell_type": "code",
   "execution_count": 28,
   "id": "8ae0194a",
   "metadata": {},
   "outputs": [
    {
     "data": {
      "text/plain": [
       "dict_values(['value1', 'value2'])"
      ]
     },
     "execution_count": 28,
     "metadata": {},
     "output_type": "execute_result"
    }
   ],
   "source": [
    "my_dict.values()"
   ]
  },
  {
   "cell_type": "code",
   "execution_count": 29,
   "id": "c1849b59",
   "metadata": {},
   "outputs": [
    {
     "data": {
      "text/plain": [
       "'value1'"
      ]
     },
     "execution_count": 29,
     "metadata": {},
     "output_type": "execute_result"
    }
   ],
   "source": [
    "my_dict[\"key1\"]"
   ]
  },
  {
   "cell_type": "code",
   "execution_count": 2,
   "id": "ec7ffdbd",
   "metadata": {},
   "outputs": [],
   "source": [
    "bio_data={\"name\": \"Funmilayo\", \"Age\":15,\"Address\": \"Gudu\", \"Phone number\":8032768944}"
   ]
  },
  {
   "cell_type": "code",
   "execution_count": 3,
   "id": "30b5a37f",
   "metadata": {},
   "outputs": [
    {
     "data": {
      "text/plain": [
       "{'name': 'Funmilayo', 'Age': 15, 'Address': 'Gudu', 'Phone number': 8032768944}"
      ]
     },
     "execution_count": 3,
     "metadata": {},
     "output_type": "execute_result"
    }
   ],
   "source": [
    "bio_data"
   ]
  },
  {
   "cell_type": "code",
   "execution_count": 4,
   "id": "1b750c07",
   "metadata": {},
   "outputs": [
    {
     "data": {
      "text/plain": [
       "{'name': 'Funmilayo', 'Age': 15, 'Address': 'Gudu', 'Phone number': 8032768944}"
      ]
     },
     "execution_count": 4,
     "metadata": {},
     "output_type": "execute_result"
    }
   ],
   "source": [
    "bio_data"
   ]
  },
  {
   "cell_type": "code",
   "execution_count": 5,
   "id": "967f24c3",
   "metadata": {},
   "outputs": [
    {
     "data": {
      "text/plain": [
       "'Funmilayo'"
      ]
     },
     "execution_count": 5,
     "metadata": {},
     "output_type": "execute_result"
    }
   ],
   "source": [
    "bio_data[\"name\"]"
   ]
  },
  {
   "cell_type": "code",
   "execution_count": 6,
   "id": "3dafb6f5",
   "metadata": {},
   "outputs": [
    {
     "data": {
      "text/plain": [
       "15"
      ]
     },
     "execution_count": 6,
     "metadata": {},
     "output_type": "execute_result"
    }
   ],
   "source": [
    "bio_data[\"Age\"]"
   ]
  },
  {
   "cell_type": "code",
   "execution_count": 7,
   "id": "a69b942c",
   "metadata": {},
   "outputs": [
    {
     "data": {
      "text/plain": [
       "'Gudu'"
      ]
     },
     "execution_count": 7,
     "metadata": {},
     "output_type": "execute_result"
    }
   ],
   "source": [
    "bio_data[\"Address\"]"
   ]
  },
  {
   "cell_type": "code",
   "execution_count": 8,
   "id": "b555f19b",
   "metadata": {},
   "outputs": [],
   "source": [
    "bio_data[\"colour\"]=\"green\" #To include another keyvalue to the Dictionary"
   ]
  },
  {
   "cell_type": "code",
   "execution_count": 9,
   "id": "7ce052fc",
   "metadata": {},
   "outputs": [
    {
     "data": {
      "text/plain": [
       "{'name': 'Funmilayo',\n",
       " 'Age': 15,\n",
       " 'Address': 'Gudu',\n",
       " 'Phone number': 8032768944,\n",
       " 'colour': 'green'}"
      ]
     },
     "execution_count": 9,
     "metadata": {},
     "output_type": "execute_result"
    }
   ],
   "source": [
    "bio_data"
   ]
  },
  {
   "cell_type": "code",
   "execution_count": 14,
   "id": "87233d2e",
   "metadata": {},
   "outputs": [
    {
     "ename": "TypeError",
     "evalue": "'builtin_function_or_method' object is not subscriptable",
     "output_type": "error",
     "traceback": [
      "\u001b[1;31m---------------------------------------------------------------------------\u001b[0m",
      "\u001b[1;31mTypeError\u001b[0m                                 Traceback (most recent call last)",
      "Input \u001b[1;32mIn [14]\u001b[0m, in \u001b[0;36m<cell line: 1>\u001b[1;34m()\u001b[0m\n\u001b[1;32m----> 1\u001b[0m \u001b[43mbio_data\u001b[49m\u001b[38;5;241;43m.\u001b[39;49m\u001b[43mpop\u001b[49m\u001b[43m[\u001b[49m\u001b[38;5;241;43m5\u001b[39;49m\u001b[43m]\u001b[49m\n",
      "\u001b[1;31mTypeError\u001b[0m: 'builtin_function_or_method' object is not subscriptable"
     ]
    }
   ],
   "source": [
    "bio_data.pop[5]"
   ]
  },
  {
   "cell_type": "code",
   "execution_count": 11,
   "id": "ba8eb3d8",
   "metadata": {},
   "outputs": [
    {
     "data": {
      "text/plain": [
       "{'name': 'Funmilayo',\n",
       " 'Age': 15,\n",
       " 'Address': 'Gudu',\n",
       " 'Phone number': 8032768944,\n",
       " 'colour': 'green'}"
      ]
     },
     "execution_count": 11,
     "metadata": {},
     "output_type": "execute_result"
    }
   ],
   "source": [
    "bio_data"
   ]
  },
  {
   "cell_type": "code",
   "execution_count": 20,
   "id": "d5ad15c2",
   "metadata": {},
   "outputs": [],
   "source": [
    "bio_data[\"siblings\"]=[\"Keji\",\"Tolu\",\"Jacob\"]"
   ]
  },
  {
   "cell_type": "code",
   "execution_count": 21,
   "id": "a915caae",
   "metadata": {},
   "outputs": [
    {
     "data": {
      "text/plain": [
       "{'name': 'Funmilayo',\n",
       " 'Age': 15,\n",
       " 'Address': 'Gudu',\n",
       " 'Phone number': 8032768944,\n",
       " 'colour': 'green',\n",
       " 'siblings': ['Keji', 'Tolu', 'Jacob']}"
      ]
     },
     "execution_count": 21,
     "metadata": {},
     "output_type": "execute_result"
    }
   ],
   "source": [
    "bio_data"
   ]
  },
  {
   "cell_type": "code",
   "execution_count": 22,
   "id": "548a45eb",
   "metadata": {},
   "outputs": [
    {
     "data": {
      "text/plain": [
       "['Keji', 'Tolu', 'Jacob']"
      ]
     },
     "execution_count": 22,
     "metadata": {},
     "output_type": "execute_result"
    }
   ],
   "source": [
    "bio_data[\"siblings\"]"
   ]
  },
  {
   "cell_type": "code",
   "execution_count": 23,
   "id": "bd4670b5",
   "metadata": {},
   "outputs": [
    {
     "data": {
      "text/plain": [
       "'Jacob'"
      ]
     },
     "execution_count": 23,
     "metadata": {},
     "output_type": "execute_result"
    }
   ],
   "source": [
    "bio_data[\"siblings\"][2] #To extract or Index a value from the complete Key e.g Jacob"
   ]
  },
  {
   "cell_type": "code",
   "execution_count": 32,
   "id": "91d2362b",
   "metadata": {},
   "outputs": [],
   "source": [
    "#List Modification example\n",
    "AGE=[1,3,5,6,78,95]"
   ]
  },
  {
   "cell_type": "code",
   "execution_count": 33,
   "id": "5443644d",
   "metadata": {},
   "outputs": [
    {
     "data": {
      "text/plain": [
       "[1, 3, 5, 6, 78, 95]"
      ]
     },
     "execution_count": 33,
     "metadata": {},
     "output_type": "execute_result"
    }
   ],
   "source": [
    "AGE"
   ]
  },
  {
   "cell_type": "code",
   "execution_count": 34,
   "id": "1b6181e8",
   "metadata": {},
   "outputs": [],
   "source": [
    "AGE[2] =30"
   ]
  },
  {
   "cell_type": "code",
   "execution_count": 35,
   "id": "d227f8e2",
   "metadata": {},
   "outputs": [
    {
     "data": {
      "text/plain": [
       "[1, 3, 30, 6, 78, 95]"
      ]
     },
     "execution_count": 35,
     "metadata": {},
     "output_type": "execute_result"
    }
   ],
   "source": [
    "AGE"
   ]
  },
  {
   "cell_type": "code",
   "execution_count": null,
   "id": "00b03622",
   "metadata": {},
   "outputs": [],
   "source": [
    "# Tuples \n",
    "#A tuple is a sequence of items but are in order, and it is not possible to\n",
    "# modify the Tuplee unlike the list that can be modified #In list [] is used ,While in Tuples this () is used for values."
   ]
  },
  {
   "cell_type": "code",
   "execution_count": 36,
   "id": "b6aebac7",
   "metadata": {},
   "outputs": [],
   "source": [
    "Tup=(1,3,5,6,78,95)"
   ]
  },
  {
   "cell_type": "code",
   "execution_count": 37,
   "id": "f227dff7",
   "metadata": {},
   "outputs": [
    {
     "data": {
      "text/plain": [
       "(1, 3, 5, 6, 78, 95)"
      ]
     },
     "execution_count": 37,
     "metadata": {},
     "output_type": "execute_result"
    }
   ],
   "source": [
    "Tup"
   ]
  },
  {
   "cell_type": "code",
   "execution_count": 38,
   "id": "1e5704d8",
   "metadata": {},
   "outputs": [
    {
     "data": {
      "text/plain": [
       "(1, 3, 5)"
      ]
     },
     "execution_count": 38,
     "metadata": {},
     "output_type": "execute_result"
    }
   ],
   "source": [
    "Tup[0:3]"
   ]
  },
  {
   "cell_type": "code",
   "execution_count": 39,
   "id": "32a8e2e1",
   "metadata": {},
   "outputs": [
    {
     "data": {
      "text/plain": [
       "78"
      ]
     },
     "execution_count": 39,
     "metadata": {},
     "output_type": "execute_result"
    }
   ],
   "source": [
    "Tup[-2]"
   ]
  },
  {
   "cell_type": "code",
   "execution_count": 40,
   "id": "ead38cde",
   "metadata": {},
   "outputs": [
    {
     "data": {
      "text/plain": [
       "6"
      ]
     },
     "execution_count": 40,
     "metadata": {},
     "output_type": "execute_result"
    }
   ],
   "source": [
    "len(Tup)"
   ]
  },
  {
   "cell_type": "code",
   "execution_count": null,
   "id": "476ef458",
   "metadata": {},
   "outputs": [],
   "source": [
    "# Set\n",
    "# Collection of a Unique item that are not in order is called Set"
   ]
  },
  {
   "cell_type": "code",
   "execution_count": 41,
   "id": "3d344e94",
   "metadata": {},
   "outputs": [],
   "source": [
    "num={2,4,4,4,4,5,5,5,5,55,55,1,1,1,1,1,1,7,8,8,8,6,6,66,}"
   ]
  },
  {
   "cell_type": "code",
   "execution_count": 42,
   "id": "2fe3e305",
   "metadata": {},
   "outputs": [
    {
     "data": {
      "text/plain": [
       "{1, 2, 4, 5, 6, 7, 8, 55, 66}"
      ]
     },
     "execution_count": 42,
     "metadata": {},
     "output_type": "execute_result"
    }
   ],
   "source": [
    "num"
   ]
  },
  {
   "cell_type": "code",
   "execution_count": 46,
   "id": "293caf3f",
   "metadata": {},
   "outputs": [
    {
     "data": {
      "text/plain": [
       "set"
      ]
     },
     "execution_count": 46,
     "metadata": {},
     "output_type": "execute_result"
    }
   ],
   "source": [
    "type(num)"
   ]
  },
  {
   "cell_type": "code",
   "execution_count": 47,
   "id": "07774695",
   "metadata": {},
   "outputs": [],
   "source": [
    "names={\"titi\",\"Grace\",\"titi\",\"Peace\",\"Peace\",\"Binta\"}"
   ]
  },
  {
   "cell_type": "code",
   "execution_count": 48,
   "id": "b185fb76",
   "metadata": {},
   "outputs": [
    {
     "data": {
      "text/plain": [
       "{'Binta', 'Grace', 'Peace', 'titi'}"
      ]
     },
     "execution_count": 48,
     "metadata": {},
     "output_type": "execute_result"
    }
   ],
   "source": [
    "names"
   ]
  },
  {
   "cell_type": "code",
   "execution_count": 49,
   "id": "14ffff5b",
   "metadata": {},
   "outputs": [],
   "source": [
    "names.add(\"Tabitha\")"
   ]
  },
  {
   "cell_type": "code",
   "execution_count": 50,
   "id": "a62abaf9",
   "metadata": {},
   "outputs": [
    {
     "data": {
      "text/plain": [
       "{'Binta', 'Grace', 'Peace', 'Tabitha', 'titi'}"
      ]
     },
     "execution_count": 50,
     "metadata": {},
     "output_type": "execute_result"
    }
   ],
   "source": [
    "names"
   ]
  },
  {
   "cell_type": "code",
   "execution_count": 51,
   "id": "b54363ca",
   "metadata": {
    "scrolled": true
   },
   "outputs": [
    {
     "ename": "AttributeError",
     "evalue": "'set' object has no attribute 'append'",
     "output_type": "error",
     "traceback": [
      "\u001b[1;31m---------------------------------------------------------------------------\u001b[0m",
      "\u001b[1;31mAttributeError\u001b[0m                            Traceback (most recent call last)",
      "Input \u001b[1;32mIn [51]\u001b[0m, in \u001b[0;36m<cell line: 1>\u001b[1;34m()\u001b[0m\n\u001b[1;32m----> 1\u001b[0m \u001b[43mnames\u001b[49m\u001b[38;5;241;43m.\u001b[39;49m\u001b[43mappend\u001b[49m(\u001b[38;5;124m\"\u001b[39m\u001b[38;5;124mComfort\u001b[39m\u001b[38;5;124m\"\u001b[39m)\n",
      "\u001b[1;31mAttributeError\u001b[0m: 'set' object has no attribute 'append'"
     ]
    }
   ],
   "source": [
    "names.append(\"Comfort\")"
   ]
  },
  {
   "cell_type": "code",
   "execution_count": null,
   "id": "3a81aa1a",
   "metadata": {},
   "outputs": [],
   "source": []
  }
 ],
 "metadata": {
  "kernelspec": {
   "display_name": "Python 3 (ipykernel)",
   "language": "python",
   "name": "python3"
  },
  "language_info": {
   "codemirror_mode": {
    "name": "ipython",
    "version": 3
   },
   "file_extension": ".py",
   "mimetype": "text/x-python",
   "name": "python",
   "nbconvert_exporter": "python",
   "pygments_lexer": "ipython3",
   "version": "3.9.12"
  }
 },
 "nbformat": 4,
 "nbformat_minor": 5
}
